{
  "nbformat": 4,
  "nbformat_minor": 0,
  "metadata": {
    "colab": {
      "provenance": [],
      "authorship_tag": "ABX9TyM/S4EMvCoFFdHi8PNP7N5q",
      "include_colab_link": true
    },
    "kernelspec": {
      "name": "python3",
      "display_name": "Python 3"
    },
    "language_info": {
      "name": "python"
    }
  },
  "cells": [
    {
      "cell_type": "markdown",
      "metadata": {
        "id": "view-in-github",
        "colab_type": "text"
      },
      "source": [
        "<a href=\"https://colab.research.google.com/github/cinth90/funcionesPython/blob/main/funcion_registrar_y_loguear.ipynb\" target=\"_parent\"><img src=\"https://colab.research.google.com/assets/colab-badge.svg\" alt=\"Open In Colab\"/></a>"
      ]
    },
    {
      "cell_type": "markdown",
      "source": [
        "\n",
        "Funcion que ingresa {usuario: clave} en el dictionary.\n",
        "\n"
      ],
      "metadata": {
        "id": "j7t2r3BFKxqD"
      }
    },
    {
      "cell_type": "code",
      "source": [
        "bd = {} # bd = base de datos. Defini un dictionary vacio."
      ],
      "metadata": {
        "id": "DnXu6hmXJ3vY"
      },
      "execution_count": 3,
      "outputs": []
    },
    {
      "cell_type": "code",
      "execution_count": 4,
      "metadata": {
        "id": "65tqZDTYNc-n"
      },
      "outputs": [],
      "source": [
        "def registrar(bd):\n",
        "  while True:\n",
        "    usuario = input(\"Ingrese nombre de usuario o 'exit'  para salir: \")\n",
        "    if usuario == \"exit\":\n",
        "      return \"Ha decidico no crear usuario\"\n",
        "      break\n",
        "    if usuario == \"\":\n",
        "      return \"Usuario vacio, ingrese un usuario valido\"\n",
        "      break\n",
        "    if usuario in bd:\n",
        "      return \"Usuario no disponible\"\n",
        "      break\n",
        "    else:\n",
        "      bd[usuario] = input(\"Ingrese su clave: \")\n",
        "      print(\"Usuario creado exitosamente\")\n",
        "    return bd  #Si escribo return bd me muestra todo los usuarios y claves del dictionary bd(solo para checkear q tengo guardado)"
      ]
    },
    {
      "cell_type": "code",
      "source": [
        "registrar(bd)"
      ],
      "metadata": {
        "id": "hLb6eg1fOEy1",
        "colab": {
          "base_uri": "https://localhost:8080/"
        },
        "outputId": "fc729892-730d-4dbd-91fe-8e132de72c5f"
      },
      "execution_count": 5,
      "outputs": [
        {
          "output_type": "stream",
          "name": "stdout",
          "text": [
            "Ingrese nombre de usuario o 'exit'  para salir: cin\n",
            "Ingrese su clave: 3333\n",
            "Usuario creado exitosamente\n"
          ]
        },
        {
          "output_type": "execute_result",
          "data": {
            "text/plain": [
              "{'cin': '3333'}"
            ]
          },
          "metadata": {},
          "execution_count": 5
        }
      ]
    },
    {
      "cell_type": "markdown",
      "source": [
        "Funcion para leer los datos cargados en la base de datos"
      ],
      "metadata": {
        "id": "goXEp6e-Xlkt"
      }
    },
    {
      "cell_type": "code",
      "source": [
        "def leer_data(bd):\n",
        "  print(\"La info almacenada en la base de datos es:\")\n",
        "  usuario=0\n",
        "  for key in bd.keys():\n",
        "    usuario= usuario+1\n",
        "    print(f\"Usuario {usuario}: {key}\")\n",
        "    if bd=={}:\n",
        "      print(\"La base de datos de usuarios esta vacia\")\n",
        "\n",
        "leer_data(bd)"
      ],
      "metadata": {
        "id": "CLvLJe7HNpxp",
        "colab": {
          "base_uri": "https://localhost:8080/"
        },
        "outputId": "9109f480-7d5f-40fa-869d-f4d216135ebe"
      },
      "execution_count": 6,
      "outputs": [
        {
          "output_type": "stream",
          "name": "stdout",
          "text": [
            "La info almacenada en la base de datos es:\n",
            "Usuario 1: cin\n"
          ]
        }
      ]
    },
    {
      "cell_type": "markdown",
      "source": [
        "Funcion para loguearte"
      ],
      "metadata": {
        "id": "-Q1oLqriXkp0"
      }
    },
    {
      "cell_type": "code",
      "source": [
        "def login(bd):\n",
        "  while True:\n",
        "    usuario = input(\"Ingrese nombre de usuario: \")\n",
        "    if usuario not in bd:\n",
        "      print(\"Usuario no existe\")\n",
        "      continue\n",
        "    clave = input(\"Ingrese su clave: \")\n",
        "    if bd[usuario]!= clave:\n",
        "       print(\"Clave ingresada incorrecta\")\n",
        "    else:\n",
        "      print(\"Bienvenido al sistema\")\n",
        "      break\n",
        "\n",
        "login(bd)"
      ],
      "metadata": {
        "colab": {
          "base_uri": "https://localhost:8080/"
        },
        "id": "2IROkFLgES9B",
        "outputId": "d21cafb3-fd34-4c90-df77-da3697b47d04"
      },
      "execution_count": 7,
      "outputs": [
        {
          "output_type": "stream",
          "name": "stdout",
          "text": [
            "Ingrese nombre de usuario: cin\n",
            "Ingrese su clave: 777\n",
            "Clave ingresada incorrecta\n",
            "Ingrese nombre de usuario: cin\n",
            "Ingrese su clave: 3333\n",
            "Bienvenido al sistema\n"
          ]
        }
      ]
    }
  ]
}