{
  "nbformat": 4,
  "nbformat_minor": 0,
  "metadata": {
    "colab": {
      "provenance": [],
      "authorship_tag": "ABX9TyMzG0jXEiC0hbMjrI+6DY/a",
      "include_colab_link": true
    },
    "kernelspec": {
      "name": "python3",
      "display_name": "Python 3"
    },
    "language_info": {
      "name": "python"
    }
  },
  "cells": [
    {
      "cell_type": "markdown",
      "metadata": {
        "id": "view-in-github",
        "colab_type": "text"
      },
      "source": [
        "<a href=\"https://colab.research.google.com/github/cinth90/funcionesPython/blob/main/poo_ejemplos.ipynb\" target=\"_parent\"><img src=\"https://colab.research.google.com/assets/colab-badge.svg\" alt=\"Open In Colab\"/></a>"
      ]
    },
    {
      "cell_type": "code",
      "execution_count": 13,
      "metadata": {
        "colab": {
          "base_uri": "https://localhost:8080/"
        },
        "id": "buqhOpoi8qu3",
        "outputId": "4bb8d143-0a05-408c-d27b-de94b7aa5291"
      },
      "outputs": [
        {
          "output_type": "stream",
          "name": "stdout",
          "text": [
            "Cortaste la llamda desde tu: Pixel 8 pro\n",
            "Estas haciendo un llamado desde un: Iphone 15 pro\n"
          ]
        }
      ],
      "source": [
        "class Celular:\n",
        "    def __init__(self, marca, modelo, camara):\n",
        "        self.marca = marca\n",
        "        self.modelo = modelo\n",
        "        self.camara = camara\n",
        "\n",
        "    def llamar(self):\n",
        "        print(f\"Estas haciendo un llamado desde un: {self.modelo}\")\n",
        "\n",
        "    def cortar(self):\n",
        "        print(f\"Cortaste la llamda desde tu: {self.modelo}\")\n",
        "\n",
        "\n",
        "celular1 = Celular(\"Samsung\",\"S23\",\"48MP\")\n",
        "celular2 = Celular(\"Apple\", \"Iphone 15 pro\", \"96MP\")\n",
        "celular3 = Celular(\"Google\", \"Pixel 8 pro\" , \"50MP\")\n",
        "\n",
        "celular3.cortar()\n",
        "celular2.llamar()"
      ]
    },
    {
      "cell_type": "code",
      "source": [
        "class Estudiante:\n",
        "    def __init__(self, nombre, edad, grado):\n",
        "        self.nombre = nombre\n",
        "        self.edad = edad\n",
        "        self.grado = grado\n",
        "\n",
        "    def estudiar(self):\n",
        "        print(f\"El estudiante {self.nombre} esta estudiando\")\n",
        "\n",
        "nombre = input(\"Ingrese su nombre: \")\n",
        "edad = input(\"Ingrese su edad: \")\n",
        "grado = input(\"Ingrese su grado: \")\n",
        "\n",
        "estudiante = Estudiante(nombre, edad, grado)\n",
        "\n",
        "print(f\"\"\"\n",
        "      DATOS DEL ESTUDIANTE: \\n\\n\n",
        "      Nombre: {estudiante.nombre}\\n\n",
        "      Edad: {estudiante.edad}\\n\n",
        "      Grado: {estudiante.grado}\\n\"\"\")\n",
        "\n",
        "\n",
        "while True:\n",
        "    estudiar = input(\"Desea estudiar? (Si/No): \")\n",
        "    if (estudiar.lower() == \"si\"):\n",
        "        estudiante.estudiar()\n",
        "        break\n",
        "\n",
        "    elif (estudiar.lower() == \"no\"):\n",
        "        print(\"Gracias por su tiempo\")\n",
        "        break\n",
        "\n",
        "    else:\n",
        "        print(\"Opción no válida, intenta de nuevo.\")"
      ],
      "metadata": {
        "colab": {
          "base_uri": "https://localhost:8080/"
        },
        "id": "H6DyX3UW8wq7",
        "outputId": "dc812106-0c65-4e7c-c035-494ddc7dc658"
      },
      "execution_count": 18,
      "outputs": [
        {
          "output_type": "stream",
          "name": "stdout",
          "text": [
            "Ingrese su nombre: Cin\n",
            "Ingrese su edad: 34\n",
            "Ingrese su grado: Cuarto\n",
            "\n",
            "      DATOS DEL ESTUDIANTE: \n",
            "\n",
            "\n",
            "      Nombre: Cin\n",
            "\n",
            "      Edad: 34\n",
            "\n",
            "      Grado: Cuarto\n",
            "\n",
            "Desea estudiar? (Si/No): b=no\n",
            "Opción no válida, intenta de nuevo.\n",
            "Desea estudiar? (Si/No): nnn\n",
            "Opción no válida, intenta de nuevo.\n",
            "Desea estudiar? (Si/No): no\n",
            "Gracias por su tiempo\n"
          ]
        }
      ]
    },
    {
      "cell_type": "code",
      "source": [
        "class Alumno:\n",
        "    def __init__(self,nombre,nota):\n",
        "        self.nombre = nombre\n",
        "        self.nota = nota\n",
        "\n",
        "    def imprimir(self):\n",
        "        print(f\"La nota de: {self.nombre} es {self.nota}\")\n",
        "\n",
        "    def resultado(self):\n",
        "        if self.nota < 5:\n",
        "            print(\"Desaprobado\")\n",
        "        else:\n",
        "            print(\"Aprobado\")\n",
        "\n",
        "\n"
      ],
      "metadata": {
        "id": "V_Rs2r069BUc"
      },
      "execution_count": 15,
      "outputs": []
    },
    {
      "cell_type": "code",
      "source": [
        "        alumno1 = Alumno(\"Cin\", 5)\n",
        "        alumno2 = Alumno(\"Gabriel\", 10)\n",
        "        alumno3 = Alumno(\"Juan\", 3)"
      ],
      "metadata": {
        "id": "xgvo3CMx9Gzv"
      },
      "execution_count": 16,
      "outputs": []
    },
    {
      "cell_type": "code",
      "source": [
        "alumno1.imprimir()\n",
        "alumno1.resultado()\n",
        "alumno3.imprimir()\n",
        "alumno3.resultado()\n",
        "alumno2.imprimir()\n",
        "alumno2.resultado()"
      ],
      "metadata": {
        "colab": {
          "base_uri": "https://localhost:8080/"
        },
        "id": "k2qQg8M-9Lbn",
        "outputId": "72b0b5fb-768d-4854-ccdc-9ac5ca810850"
      },
      "execution_count": 17,
      "outputs": [
        {
          "output_type": "stream",
          "name": "stdout",
          "text": [
            "La nota de: Cin es 5\n",
            "Aprobado\n",
            "La nota de: Juan es 3\n",
            "Desaprobado\n",
            "La nota de: Gabriel es 10\n",
            "Aprobado\n"
          ]
        }
      ]
    }
  ]
}