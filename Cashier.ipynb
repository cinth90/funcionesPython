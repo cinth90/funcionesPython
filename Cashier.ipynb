{
  "nbformat": 4,
  "nbformat_minor": 0,
  "metadata": {
    "colab": {
      "provenance": [],
      "authorship_tag": "ABX9TyNa02Gj1WB19wdIueHU0aL6",
      "include_colab_link": true
    },
    "kernelspec": {
      "name": "python3",
      "display_name": "Python 3"
    },
    "language_info": {
      "name": "python"
    }
  },
  "cells": [
    {
      "cell_type": "markdown",
      "metadata": {
        "id": "view-in-github",
        "colab_type": "text"
      },
      "source": [
        "<a href=\"https://colab.research.google.com/github/cinth90/funcionesPython/blob/main/Cashier.ipynb\" target=\"_parent\"><img src=\"https://colab.research.google.com/assets/colab-badge.svg\" alt=\"Open In Colab\"/></a>"
      ]
    },
    {
      "cell_type": "code",
      "execution_count": 39,
      "metadata": {
        "id": "QJe5YC01PmBc"
      },
      "outputs": [],
      "source": [
        "def enterProducts():\n",
        "  buyingData={}\n",
        "  enterDetails = True\n",
        "\n",
        "  while enterDetails:\n",
        "    details = input(\"Press A to add a product o Q to quit: \")\n",
        "\n",
        "    if details == \"A\":\n",
        "      product = input(\"Enter product name: \")\n",
        "      quantity = int(input(\"Enter product quantity: \"))\n",
        "      buyingData.update({product:quantity})\n",
        "    elif details == \"Q\":\n",
        "      enterDetails = False\n",
        "    else:\n",
        "       print(\"Invalid input\")\n",
        "\n",
        "  return buyingData"
      ]
    },
    {
      "cell_type": "code",
      "source": [
        "def getPrice(product, quantity):\n",
        "  priceData = {\n",
        "      'Biscuit':3,\n",
        "      'Chicken':5,\n",
        "      'Egg':1,\n",
        "      'Fish':3,\n",
        "      'Coke':2,\n",
        "      'Bread':2,\n",
        "      'Apple':3,\n",
        "      'Onion':3\n",
        "  }\n",
        "  subtotal = priceData[product] * quantity\n",
        "  print(product + ':$' + str(priceData[product]) + ' * ' + str(quantity) + ' = ' + str(subtotal))\n",
        "  return subtotal"
      ],
      "metadata": {
        "id": "stRuCQG2QMKj"
      },
      "execution_count": 40,
      "outputs": []
    },
    {
      "cell_type": "code",
      "source": [
        "def getDiscount(billAmount, membership):\n",
        "  discount = 0\n",
        "  if billAmount>=25:\n",
        "    if membership==\"Gold\":\n",
        "      billAmount=billAmount*0,80\n",
        "      discount=20\n",
        "    elif membership==\"Silver\":\n",
        "      billAmount=billAmount*0,90\n",
        "      discount=10\n",
        "    elif membership==\"Bronze\":\n",
        "      billAmount=billAmount*0,95\n",
        "      discount=5\n",
        "    print(str(discount)+'% off for ' + membership + ''+ ' membership on total amount: $' + str(billAmount))\n",
        "  else:\n",
        "    print('No discount on amount less than $25')\n",
        "\n",
        "  return billAmount"
      ],
      "metadata": {
        "id": "Vb5QUFfBT7uC"
      },
      "execution_count": 41,
      "outputs": []
    },
    {
      "cell_type": "code",
      "source": [
        "def makeBill(buyingData, membership):\n",
        "  billAmount = 0\n",
        "  for key, value in buyingData.items():\n",
        "    billAmount += getPrice(key, value)\n",
        "  billAmount = getDiscount(billAmount, membership)\n",
        "  return billAmount"
      ],
      "metadata": {
        "id": "1xfRJnI1V7Q7"
      },
      "execution_count": 42,
      "outputs": []
    },
    {
      "cell_type": "code",
      "source": [
        "buyingData = enterProducts()\n",
        "membership = input(\"Enter membership type: \")\n",
        "billAmount = makeBill(buyingData, membership)"
      ],
      "metadata": {
        "colab": {
          "base_uri": "https://localhost:8080/"
        },
        "id": "qhDWBUHkWZZn",
        "outputId": "6b09906b-9357-4ae1-88f9-e31ea2ca18c1"
      },
      "execution_count": 43,
      "outputs": [
        {
          "output_type": "stream",
          "name": "stdout",
          "text": [
            "Press A to add a product o Q to quit: /a\n",
            "Invalid input\n",
            "Press A to add a product o Q to quit: A\n",
            "Enter product name: Bread\n",
            "Enter product quantity: 3341\n",
            "Press A to add a product o Q to quit: Q\n",
            "Enter membership type: Silver\n",
            "Bread:$2 * 3341 = 6682\n",
            "10% off for Silver membership on total amount: $(0, 90)\n"
          ]
        }
      ]
    }
  ]
}