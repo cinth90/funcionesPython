{
  "nbformat": 4,
  "nbformat_minor": 0,
  "metadata": {
    "colab": {
      "provenance": [],
      "authorship_tag": "ABX9TyPSVwyWry35R9J1Uj++2QW/",
      "include_colab_link": true
    },
    "kernelspec": {
      "name": "python3",
      "display_name": "Python 3"
    },
    "language_info": {
      "name": "python"
    }
  },
  "cells": [
    {
      "cell_type": "markdown",
      "metadata": {
        "id": "view-in-github",
        "colab_type": "text"
      },
      "source": [
        "<a href=\"https://colab.research.google.com/github/cinth90/funcionesPython/blob/main/gestion_tareas_pendientes.ipynb\" target=\"_parent\"><img src=\"https://colab.research.google.com/assets/colab-badge.svg\" alt=\"Open In Colab\"/></a>"
      ]
    },
    {
      "cell_type": "code",
      "execution_count": 1,
      "metadata": {
        "id": "yAd4SLygaF0P"
      },
      "outputs": [],
      "source": [
        "def agregar_tarea(lista_de_tareas,tarea):\n",
        "    #agrega una nueva tarea a lista \"tareas\".\n",
        "    lista_de_tareas.append(tarea)\n"
      ]
    },
    {
      "cell_type": "code",
      "source": [
        "def marcar_completada(lista_de_tareas,indice):\n",
        "    if 0 <= indice < len(lista_de_tareas): #compruebo que no pasen una tarea negativa, ni mayor al total de tareas\n",
        "        lista_de_tareas[indice] = \" X \" + lista_de_tareas[indice]#marca una tarea como completada agregando \"(X)\"al principio.\n",
        "    else:\n",
        "        print(\"Número de tarea inválido.\")\n"
      ],
      "metadata": {
        "id": "DcYDAyqlaUFE"
      },
      "execution_count": 2,
      "outputs": []
    },
    {
      "cell_type": "code",
      "source": [
        "def listar_pendientes(lista_de_tareas):\n",
        "    if not lista_de_tareas:\n",
        "        print(\"No hay tareas pendientes.\")\n",
        "    else:\n",
        "      print(\"\\nTareas pendientes: \")\n",
        "      for i, tarea in enumerate(lista_de_tareas): #muestra las tareas pendientes numeradas.\n",
        "        print(f\"{i+1}.{tarea}\") # i+1 para evitar que arranque por el cero\n"
      ],
      "metadata": {
        "id": "BdAz5bIdaXNH"
      },
      "execution_count": 3,
      "outputs": []
    },
    {
      "cell_type": "code",
      "source": [
        "tareas_pendientes = [] #lista para almacenar tareas pendientes\n",
        "\n",
        "while True:\n",
        "  print(\"\\n1.Agregar tarea\")\n",
        "  print(\"2.Marcar tarea como completada\")\n",
        "  print(\"3.Listar tareas\")\n",
        "  print(\"4.Salir\")\n",
        "\n",
        "\n",
        "  opcion = input(\"Seleccione una opcion: \")\n",
        "  if opcion == \"4\":\n",
        "    break\n",
        "  if opcion == \"1\":\n",
        "    tarea= input(\"Ingresa la tarea pendiente: \")\n",
        "    agregar_tarea(tareas_pendientes,tarea)\n",
        "    print(\"Tarea Agregada.\")\n",
        "  elif opcion == \"2\":\n",
        "    listar_pendientes(tareas_pendientes)\n",
        "    indice = int(input(\"Ingresa el numero de la tarea completada: \"))\n",
        "    marcar_completada(tareas_pendientes, indice - 1) #le resto uno al indice para que coincida\n",
        "    print(\"Tarea marcada como completada.\")\n",
        "  elif opcion == \"3\":\n",
        "    listar_pendientes(tareas_pendientes)"
      ],
      "metadata": {
        "colab": {
          "base_uri": "https://localhost:8080/"
        },
        "id": "Rn-A1OzHaYUh",
        "outputId": "3227838b-4a1c-49c2-d95e-04fda42b7e97"
      },
      "execution_count": 4,
      "outputs": [
        {
          "name": "stdout",
          "output_type": "stream",
          "text": [
            "\n",
            "1.Agregar tarea\n",
            "2.Marcar tarea como completada\n",
            "3.Listar tareas\n",
            "4.Salir\n",
            "Seleccione una opcion: 1\n",
            "Ingresa la tarea pendiente: correr\n",
            "Tarea Agregada.\n",
            "\n",
            "1.Agregar tarea\n",
            "2.Marcar tarea como completada\n",
            "3.Listar tareas\n",
            "4.Salir\n",
            "Seleccione una opcion: 1\n",
            "Ingresa la tarea pendiente: leer\n",
            "Tarea Agregada.\n",
            "\n",
            "1.Agregar tarea\n",
            "2.Marcar tarea como completada\n",
            "3.Listar tareas\n",
            "4.Salir\n",
            "Seleccione una opcion: 1\n",
            "Ingresa la tarea pendiente: dormir\n",
            "Tarea Agregada.\n",
            "\n",
            "1.Agregar tarea\n",
            "2.Marcar tarea como completada\n",
            "3.Listar tareas\n",
            "4.Salir\n",
            "Seleccione una opcion: 3\n",
            "\n",
            "Tareas pendientes: \n",
            "1.correr\n",
            "2.leer\n",
            "3.dormir\n",
            "\n",
            "1.Agregar tarea\n",
            "2.Marcar tarea como completada\n",
            "3.Listar tareas\n",
            "4.Salir\n",
            "Seleccione una opcion: 2\n",
            "\n",
            "Tareas pendientes: \n",
            "1.correr\n",
            "2.leer\n",
            "3.dormir\n",
            "Ingresa el numero de la tarea completada: 2\n",
            "Tarea marcada como completada.\n",
            "\n",
            "1.Agregar tarea\n",
            "2.Marcar tarea como completada\n",
            "3.Listar tareas\n",
            "4.Salir\n",
            "Seleccione una opcion: 3\n",
            "\n",
            "Tareas pendientes: \n",
            "1.correr\n",
            "2. X leer\n",
            "3.dormir\n",
            "\n",
            "1.Agregar tarea\n",
            "2.Marcar tarea como completada\n",
            "3.Listar tareas\n",
            "4.Salir\n",
            "Seleccione una opcion: 4\n"
          ]
        }
      ]
    },
    {
      "cell_type": "code",
      "source": [],
      "metadata": {
        "id": "MM3Juam0bpLw"
      },
      "execution_count": 4,
      "outputs": []
    }
  ]
}